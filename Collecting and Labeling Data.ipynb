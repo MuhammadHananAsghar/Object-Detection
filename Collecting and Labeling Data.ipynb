{
 "cells": [
  {
   "cell_type": "code",
   "execution_count": 2,
   "id": "8a97ea38-c7db-4052-8c5c-095094356d15",
   "metadata": {},
   "outputs": [],
   "source": [
    "import os\n",
    "import time\n",
    "import uuid\n",
    "import cv2"
   ]
  },
  {
   "cell_type": "code",
   "execution_count": 4,
   "id": "b7424841-02f8-4b4b-bd0b-faacd2a21c3c",
   "metadata": {},
   "outputs": [],
   "source": [
    "IMAGES_PATH = os.path.join(\"data\", \"images\")\n",
    "images_count = 50"
   ]
  },
  {
   "cell_type": "code",
   "execution_count": 6,
   "id": "f93036a7-2f26-4a17-922a-18bdc7b971fa",
   "metadata": {
    "collapsed": true,
    "jupyter": {
     "outputs_hidden": true
    },
    "tags": []
   },
   "outputs": [
    {
     "name": "stdout",
     "output_type": "stream",
     "text": [
      "Collecting Image 0\n",
      "Collecting Image 1\n",
      "Collecting Image 2\n",
      "Collecting Image 3\n",
      "Collecting Image 4\n",
      "Collecting Image 5\n",
      "Collecting Image 6\n",
      "Collecting Image 7\n",
      "Collecting Image 8\n",
      "Collecting Image 9\n",
      "Collecting Image 10\n",
      "Collecting Image 11\n",
      "Collecting Image 12\n",
      "Collecting Image 13\n",
      "Collecting Image 14\n",
      "Collecting Image 15\n",
      "Collecting Image 16\n",
      "Collecting Image 17\n",
      "Collecting Image 18\n",
      "Collecting Image 19\n",
      "Collecting Image 20\n",
      "Collecting Image 21\n",
      "Collecting Image 22\n",
      "Collecting Image 23\n",
      "Collecting Image 24\n",
      "Collecting Image 25\n",
      "Collecting Image 26\n",
      "Collecting Image 27\n",
      "Collecting Image 28\n",
      "Collecting Image 29\n",
      "Collecting Image 30\n",
      "Collecting Image 31\n",
      "Collecting Image 32\n",
      "Collecting Image 33\n",
      "Collecting Image 34\n",
      "Collecting Image 35\n",
      "Collecting Image 36\n",
      "Collecting Image 37\n",
      "Collecting Image 38\n",
      "Collecting Image 39\n",
      "Collecting Image 40\n",
      "Collecting Image 41\n",
      "Collecting Image 42\n",
      "Collecting Image 43\n",
      "Collecting Image 44\n",
      "Collecting Image 45\n",
      "Collecting Image 46\n",
      "Collecting Image 47\n",
      "Collecting Image 48\n",
      "Collecting Image 49\n"
     ]
    }
   ],
   "source": [
    "cap = cv2.VideoCapture(0)\n",
    "\n",
    "for imgnum in range(images_count):\n",
    "    print(\"Collecting Image {}\".format(imgnum))\n",
    "    ret, frame = cap.read()\n",
    "    image = cv2.flip(frame, 1)\n",
    "    imgname = os.path.join(IMAGES_PATH, f'{str(uuid.uuid1())}.jpg')\n",
    "    cv2.imwrite(imgname, image)\n",
    "    cv2.imshow(\"Output\", image)\n",
    "    time.sleep(0.5)\n",
    "    \n",
    "    if cv2.waitKey(1) & 0xFF == ord('q'):\n",
    "        break\n",
    "        \n",
    "cap.release()\n",
    "cv2.destroyAllWindows()"
   ]
  },
  {
   "cell_type": "code",
   "execution_count": 1,
   "id": "2a9b1af2-c851-4581-87fd-717402fdab25",
   "metadata": {},
   "outputs": [],
   "source": [
    "!labelme"
   ]
  },
  {
   "cell_type": "code",
   "execution_count": null,
   "id": "fb02219a-4fc1-455e-a1d3-568c183accc4",
   "metadata": {},
   "outputs": [],
   "source": []
  }
 ],
 "metadata": {
  "kernelspec": {
   "display_name": "Python 3 (ipykernel)",
   "language": "python",
   "name": "python3"
  },
  "language_info": {
   "codemirror_mode": {
    "name": "ipython",
    "version": 3
   },
   "file_extension": ".py",
   "mimetype": "text/x-python",
   "name": "python",
   "nbconvert_exporter": "python",
   "pygments_lexer": "ipython3",
   "version": "3.9.7"
  }
 },
 "nbformat": 4,
 "nbformat_minor": 5
}
